{
 "cells": [
  {
   "attachments": {},
   "cell_type": "markdown",
   "metadata": {},
   "source": [
    "### 1. YOLOv5 파일 다운로드 및 버젼 동기화"
   ]
  },
  {
   "cell_type": "code",
   "execution_count": null,
   "metadata": {},
   "outputs": [],
   "source": [
    "%git clone https://github.com/ultralytics/yolov5  # Clone repo\n",
    "%cd yolov5\n",
    "%pip install -r requirements.txt  # Install dependencies"
   ]
  },
  {
   "attachments": {},
   "cell_type": "markdown",
   "metadata": {},
   "source": [
    "### 2. Custom Dataset 준비"
   ]
  },
  {
   "attachments": {},
   "cell_type": "markdown",
   "metadata": {},
   "source": [
    " - 데이터셋을 YOLO 형식에 맞게 준비해야 함\n",
    " - YOLO 형식은 이미지와 라벨(label) 텍스트 파일(.txt)로 구성됨\n",
    " - 각 라벨 파일은 이미지와 같은 이름을 가지며, 각 객체의 클래스와 좌표가 포함되어 있음"
   ]
  },
  {
   "attachments": {},
   "cell_type": "markdown",
   "metadata": {},
   "source": [
    "**디렉토리 구조** \n",
    "\n",
    "```plaintext\n",
    "dataset/\n",
    "    train/\n",
    "         images/    \n",
    "         labels/\n",
    "    val/\n",
    "         images/   \n",
    "         labels/\n",
    "또는 \n",
    "```\n",
    "\n",
    "```plaintext\n",
    "dataset/\n",
    "    images/\n",
    "         train/    \n",
    "         val/\n",
    "    labels/\n",
    "         train/   \n",
    "         val/\n",
    "```\n",
    "**Label 파일 형식**\n",
    "\n",
    "```<class_id> <x_center> <y_center> <width> <height>```\n",
    "- ```<class_id>``` : 객체의 클래스 번호 (0부터 시작).\n",
    "- ```<x_center>``` : 객체 중심의 x 좌표 (이미지 너비로 정규화된 값, 값 범위: 0.0 ~ 1.0).\n",
    "- ```<y_center>``` : 객체 중심의 y 좌표 (이미지 높이로 정규화된 값, 값 범위: 0.0 ~ 1.0).\n",
    "- ```<width>``` : 객체의 너비 (이미지 너비로 정규화된 값, 값 범위: 0.0 ~ 1.0).\n",
    "- ```<height>``` : 객체의 높이 (이미지 높이로 정규화된 값, 값 범위: 0.0 ~ 1.0)."
   ]
  },
  {
   "attachments": {},
   "cell_type": "markdown",
   "metadata": {},
   "source": [
    "### 3. 데이터셋 설정 파일 생성"
   ]
  },
  {
   "attachments": {},
   "cell_type": "markdown",
   "metadata": {},
   "source": [
    "`dataset.yaml` 파일을 생성하여 데이터셋의 경로와 클래스 정보를 명시.\n",
    "\n",
    "이 파일은 YOLOv5가 데이터셋을 읽어들이기 위한 설정 파일."
   ]
  },
  {
   "cell_type": "code",
   "execution_count": null,
   "metadata": {},
   "outputs": [],
   "source": [
    "# dataset.yaml\n",
    "train: dataset/train/images\n",
    "val: dataset/val/images\n",
    "\n",
    "nc: 3  # 클래스 수\n",
    "names: ['class1', 'class2', 'class3']  # 클래스 이름"
   ]
  },
  {
   "attachments": {},
   "cell_type": "markdown",
   "metadata": {},
   "source": [
    "### 4. 파인 튜닝 실행"
   ]
  },
  {
   "cell_type": "code",
   "execution_count": null,
   "metadata": {},
   "outputs": [],
   "source": [
    "%python train.py --img 640 --batch 16 --epochs 50 --data dataset.yaml --weights yolov5s.pt --cache"
   ]
  },
  {
   "attachments": {},
   "cell_type": "markdown",
   "metadata": {},
   "source": [
    "- `--img`: 입력 이미지 크기.\n",
    "- `--batch`: 배치 크기.\n",
    "- `--epochs`: 학습 에포크 수.\n",
    "- `--data`: 데이터셋 설정 파일 경로.\n",
    "- `--weights`: 사전 학습된 가중치 파일 경로.\n",
    "- `--cache`: 데이터를 메모리에 캐시하여 학습 속도 향상.\n"
   ]
  },
  {
   "attachments": {},
   "cell_type": "markdown",
   "metadata": {},
   "source": [
    "### 5. 결과 확인 및 모델 저장"
   ]
  },
  {
   "attachments": {},
   "cell_type": "markdown",
   "metadata": {},
   "source": [
    "학습이 완료되면, 학습된 모델은 runs/train/exp 디렉토리에 저장됨.\n",
    "\n",
    "이 디렉토리에는 학습 중 생성된 로그, 체크포인트, 그리고 결과 이미지 등이 포함됨."
   ]
  },
  {
   "attachments": {},
   "cell_type": "markdown",
   "metadata": {},
   "source": [
    "### 6. 모델 검증 및 테스트"
   ]
  },
  {
   "cell_type": "code",
   "execution_count": null,
   "metadata": {},
   "outputs": [],
   "source": [
    "import torch\n",
    "import sys\n",
    "sys.path.append('/dir_path/')\n",
    "from models.experimental import attempt_load\n",
    "from utils.dataloaders import LoadImages\n",
    "from utils.general import non_max_suppression, scale_segments\n",
    "import os\n",
    "import pandas as pd"
   ]
  },
  {
   "cell_type": "code",
   "execution_count": null,
   "metadata": {},
   "outputs": [],
   "source": [
    "# 모델 불러오기\n",
    "model = attempt_load('/dir_path/yolov5/runs/train/exp/weights/best.pt')  # Use MPS for Apple Silicon\n",
    "model.eval()"
   ]
  },
  {
   "cell_type": "code",
   "execution_count": null,
   "metadata": {},
   "outputs": [],
   "source": [
    "# 이미지 로드\n",
    "img_path = '/dataset/test/images/'\n",
    "dataset = LoadImages(img_path, img_size=640)"
   ]
  },
  {
   "cell_type": "code",
   "execution_count": null,
   "metadata": {},
   "outputs": [],
   "source": [
    "# 예측\n",
    "results = model(img_rgb)"
   ]
  }
 ],
 "metadata": {
  "kernelspec": {
   "display_name": "py310",
   "language": "python",
   "name": "python3"
  },
  "language_info": {
   "codemirror_mode": {
    "name": "ipython",
    "version": 3
   },
   "file_extension": ".py",
   "mimetype": "text/x-python",
   "name": "python",
   "nbconvert_exporter": "python",
   "pygments_lexer": "ipython3",
   "version": "3.10.13"
  },
  "orig_nbformat": 4
 },
 "nbformat": 4,
 "nbformat_minor": 2
}
